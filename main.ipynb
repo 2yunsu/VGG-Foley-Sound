{
  "cells": [
    {
      "cell_type": "code",
      "execution_count": null,
      "metadata": {
        "colab": {
          "base_uri": "https://localhost:8080/",
          "height": 377
        },
        "id": "CNCjyy_JPm4T",
        "outputId": "93764f94-3d92-47d9-f164-abaa7a04f9af"
      },
      "outputs": [],
      "source": [
        "import requests\n",
        "from PIL import Image\n",
        "import pandas as pd\n",
        "import torch\n",
        "\n",
        "from transformers import BitsAndBytesConfig\n",
        "\n",
        "quantization_config = BitsAndBytesConfig(\n",
        "    load_in_4bit=True,\n",
        "    bnb_4bit_compute_dtype = torch.float16\n",
        ")"
      ]
    },
    {
      "cell_type": "code",
      "execution_count": null,
      "metadata": {
        "colab": {
          "base_uri": "https://localhost:8080/",
          "height": 67,
          "referenced_widgets": [
            "63a9da989f2441e8a758b6836b4a72e5",
            "66a3381a8f504075bc5f20ffd176cab0",
            "13c711bbe61549df8e88a21eae76b541",
            "86820ae6aa84473c81462c971fd4e163",
            "160c9caf67bc4be580f5674f4fe6ae75",
            "faa11c26614745fd9b21f4bfe1fd7bf6",
            "bbd5c9495afc46e1adb19cf4e4f50ade",
            "09c12f9b641547818efadd462fd25f90",
            "70c7f53bbf444921a51f4c011f676a6f",
            "7ea49dd839cc44b8af186afcdc50c02a",
            "fe837cea61d9485994feb88a19723d1a"
          ]
        },
        "id": "DFVZgElEQk3x",
        "outputId": "65254650-43f1-4a3d-e7d9-e95b2223eb85"
      },
      "outputs": [],
      "source": [
        "from transformers import pipeline\n",
        "\n",
        "model_id = \"llava-hf/llava-v1.6-vicuna-13b-hf\"\n",
        "\n",
        "pipe = pipeline(\"image-to-text\", model=model_id, model_kwargs={\"quantization_config\": quantization_config})"
      ]
    },
    {
      "cell_type": "code",
      "execution_count": 3,
      "metadata": {
        "id": "tvtYMChGFV3k"
      },
      "outputs": [],
      "source": [
        "materials_list = [\n",
        "    'rock',\n",
        "    'leaf',\n",
        "    'water',\n",
        "    'wood',\n",
        "    'plastic-bag',\n",
        "    'ceramic',\n",
        "    'metal',\n",
        "    'dirt',\n",
        "    'cloth',\n",
        "    'plastic',\n",
        "    'tile',\n",
        "    'gravel',\n",
        "    'paper',\n",
        "    'drywall',\n",
        "    'glass',\n",
        "    'grass',\n",
        "    'carpet'\n",
        "]\n",
        "url_csv = pd.read_csv('./extracted_VGGSound.csv')\n",
        "url_csv = url_csv.values.tolist()"
      ]
    },
    {
      "cell_type": "code",
      "execution_count": null,
      "metadata": {},
      "outputs": [],
      "source": [
        "import csv\n",
        "\n",
        "with open('./extracted_VGGSound.csv', newline='') as csvfile:\n",
        "    reader = csv.DictReader(csvfile)\n",
        "    column = [row['label'] for row in reader]\n",
        "\n",
        "unique_sounds = set(column)\n",
        "print(unique_sounds, \"\\n\", len(unique_sounds))"
      ]
    },
    {
      "cell_type": "code",
      "execution_count": null,
      "metadata": {
        "id": "W48r3NxDRskb"
      },
      "outputs": [],
      "source": [
        "max_new_tokens = 200\n",
        "unique_sounds = list(unique_sounds)\n",
        "print(unique_sounds)\n",
        "\n",
        "predicted_materials = []\n",
        "predicted_sounds = []\n",
        "\n",
        "for url in url_csv:\n",
        "  # print(url)\n",
        "  id, _, label, type, url = url\n",
        "  torch.cuda.empty_cache()\n",
        "  image = Image.open(requests.get(url, stream=True).raw)\n",
        "\n",
        "  prompt = f\"Question: <image>\\nWhat is the main material of this video? Please choose from the ones on the {materials_list} and tell me. If there are no materials in {materials_list}, say None.\\nAnswer:\"\n",
        "  outputs1 = pipe(image, prompt=prompt, generate_kwargs={\"max_new_tokens\": 200})\n",
        "  print(\"Predicted:\", outputs1[0][\"generated_text\"].split(\"Answer: \")[1], url)\n",
        "  predicted_materials.append(outputs1[0][\"generated_text\"].split(\"Answer: \")[1])\n",
        "\n",
        "  prompt = f\"Question: <image>\\nThis is a video thumbnail, what do you think this video will make? You should choose from the ones on the {unique_sounds}.\\nAnswer:\"\n",
        "  outputs2 = pipe(image, prompt=prompt, generate_kwargs={\"max_new_tokens\": 200})\n",
        "  print(outputs2)\n",
        "  print(label, \"|\", outputs2[0][\"generated_text\"].split(\"Answer: \")[1], end=\"\\n\\n\")\n",
        "  predicted_sounds.append(outputs2[0][\"generated_text\"].split(\"Answer: \")[1])"
      ]
    },
    {
      "cell_type": "code",
      "execution_count": 10,
      "metadata": {},
      "outputs": [],
      "source": [
        "df = pd.read_csv(\"./extracted_VGGSound.csv\")\n",
        "\n",
        "def create(list):\n",
        "    required_length = len(df) - len(list)\n",
        "\n",
        "    extended_list = list + [None] * required_length\n",
        "    return extended_list\n",
        "\n",
        "df[\"predicted_materials\"] = create(predicted_materials)\n",
        "df[\"predicted_sounds\"] = create(predicted_sounds)\n",
        "\n",
        "df.to_csv(\"updated.csv\", index=False)"
      ]
    },
    {
      "cell_type": "code",
      "execution_count": 7,
      "metadata": {},
      "outputs": [
        {
          "name": "stdout",
          "output_type": "stream",
          "text": [
            "Is there any common word? True\n"
          ]
        }
      ],
      "source": [
        "import re\n",
        "\n",
        "def contains_any_word(sentence1, sentence2):   \n",
        "    def clean_and_split(sentence):\n",
        "        cleaned_sentence = re.sub(r'[^\\w\\s]', '', sentence.lower())\n",
        "        return set(cleaned_sentence.split())\n",
        "    \n",
        "    set1 = clean_and_split(sentence1)\n",
        "    set2 = clean_and_split(sentence2)\n",
        "\n",
        "    common_words = set1.intersection(set2)\n",
        "\n",
        "    return bool(common_words)\n",
        "\n",
        "sentence1 = \"A bell ringing\"\n",
        "sentence2 = \"church bell ringing\"\n",
        "result = contains_any_word(sentence1, sentence2)\n",
        "print(\"Is there any common word?\", result)"
      ]
    },
    {
      "cell_type": "markdown",
      "metadata": {
        "id": "fs_h_W98S961"
      },
      "source": [
        "## Test ACC"
      ]
    },
    {
      "cell_type": "code",
      "execution_count": 11,
      "metadata": {},
      "outputs": [
        {
          "name": "stdout",
          "output_type": "stream",
          "text": [
            "40713\n",
            "17649\n",
            "0.4334978999336821\n"
          ]
        }
      ],
      "source": [
        "import pandas as pd\n",
        "import csv\n",
        "\n",
        "updated = pd.read_csv('./updated.csv')\n",
        "updated = updated.values.tolist()\n",
        "\n",
        "print(len(updated))\n",
        "\n",
        "success_count = 0\n",
        "\n",
        "for row in updated:\n",
        "  # print(url)\n",
        "  id, time, label, type, url, predicted_material, predicted_sound = row\n",
        "  if contains_any_word(label, predicted_sound):\n",
        "    success_count += 1\n",
        "  # if str(label) in str(predicted_sound).lower()\n",
        "print(success_count)\n",
        "\n",
        "acc = success_count / len(updated)\n",
        "\n",
        "print(acc)\n"
      ]
    },
    {
      "cell_type": "code",
      "execution_count": null,
      "metadata": {},
      "outputs": [],
      "source": []
    }
  ],
  "metadata": {
    "accelerator": "GPU",
    "colab": {
      "gpuType": "T4",
      "provenance": []
    },
    "kernelspec": {
      "display_name": "Python 3",
      "name": "python3"
    },
    "language_info": {
      "codemirror_mode": {
        "name": "ipython",
        "version": 3
      },
      "file_extension": ".py",
      "mimetype": "text/x-python",
      "name": "python",
      "nbconvert_exporter": "python",
      "pygments_lexer": "ipython3",
      "version": "3.8.19"
    },
    "widgets": {
      "application/vnd.jupyter.widget-state+json": {
        "09c12f9b641547818efadd462fd25f90": {
          "model_module": "@jupyter-widgets/base",
          "model_module_version": "1.2.0",
          "model_name": "LayoutModel",
          "state": {
            "_model_module": "@jupyter-widgets/base",
            "_model_module_version": "1.2.0",
            "_model_name": "LayoutModel",
            "_view_count": null,
            "_view_module": "@jupyter-widgets/base",
            "_view_module_version": "1.2.0",
            "_view_name": "LayoutView",
            "align_content": null,
            "align_items": null,
            "align_self": null,
            "border": null,
            "bottom": null,
            "display": null,
            "flex": null,
            "flex_flow": null,
            "grid_area": null,
            "grid_auto_columns": null,
            "grid_auto_flow": null,
            "grid_auto_rows": null,
            "grid_column": null,
            "grid_gap": null,
            "grid_row": null,
            "grid_template_areas": null,
            "grid_template_columns": null,
            "grid_template_rows": null,
            "height": null,
            "justify_content": null,
            "justify_items": null,
            "left": null,
            "margin": null,
            "max_height": null,
            "max_width": null,
            "min_height": null,
            "min_width": null,
            "object_fit": null,
            "object_position": null,
            "order": null,
            "overflow": null,
            "overflow_x": null,
            "overflow_y": null,
            "padding": null,
            "right": null,
            "top": null,
            "visibility": null,
            "width": null
          }
        },
        "13c711bbe61549df8e88a21eae76b541": {
          "model_module": "@jupyter-widgets/controls",
          "model_module_version": "1.5.0",
          "model_name": "FloatProgressModel",
          "state": {
            "_dom_classes": [],
            "_model_module": "@jupyter-widgets/controls",
            "_model_module_version": "1.5.0",
            "_model_name": "FloatProgressModel",
            "_view_count": null,
            "_view_module": "@jupyter-widgets/controls",
            "_view_module_version": "1.5.0",
            "_view_name": "ProgressView",
            "bar_style": "success",
            "description": "",
            "description_tooltip": null,
            "layout": "IPY_MODEL_09c12f9b641547818efadd462fd25f90",
            "max": 3,
            "min": 0,
            "orientation": "horizontal",
            "style": "IPY_MODEL_70c7f53bbf444921a51f4c011f676a6f",
            "value": 3
          }
        },
        "160c9caf67bc4be580f5674f4fe6ae75": {
          "model_module": "@jupyter-widgets/base",
          "model_module_version": "1.2.0",
          "model_name": "LayoutModel",
          "state": {
            "_model_module": "@jupyter-widgets/base",
            "_model_module_version": "1.2.0",
            "_model_name": "LayoutModel",
            "_view_count": null,
            "_view_module": "@jupyter-widgets/base",
            "_view_module_version": "1.2.0",
            "_view_name": "LayoutView",
            "align_content": null,
            "align_items": null,
            "align_self": null,
            "border": null,
            "bottom": null,
            "display": null,
            "flex": null,
            "flex_flow": null,
            "grid_area": null,
            "grid_auto_columns": null,
            "grid_auto_flow": null,
            "grid_auto_rows": null,
            "grid_column": null,
            "grid_gap": null,
            "grid_row": null,
            "grid_template_areas": null,
            "grid_template_columns": null,
            "grid_template_rows": null,
            "height": null,
            "justify_content": null,
            "justify_items": null,
            "left": null,
            "margin": null,
            "max_height": null,
            "max_width": null,
            "min_height": null,
            "min_width": null,
            "object_fit": null,
            "object_position": null,
            "order": null,
            "overflow": null,
            "overflow_x": null,
            "overflow_y": null,
            "padding": null,
            "right": null,
            "top": null,
            "visibility": null,
            "width": null
          }
        },
        "63a9da989f2441e8a758b6836b4a72e5": {
          "model_module": "@jupyter-widgets/controls",
          "model_module_version": "1.5.0",
          "model_name": "HBoxModel",
          "state": {
            "_dom_classes": [],
            "_model_module": "@jupyter-widgets/controls",
            "_model_module_version": "1.5.0",
            "_model_name": "HBoxModel",
            "_view_count": null,
            "_view_module": "@jupyter-widgets/controls",
            "_view_module_version": "1.5.0",
            "_view_name": "HBoxView",
            "box_style": "",
            "children": [
              "IPY_MODEL_66a3381a8f504075bc5f20ffd176cab0",
              "IPY_MODEL_13c711bbe61549df8e88a21eae76b541",
              "IPY_MODEL_86820ae6aa84473c81462c971fd4e163"
            ],
            "layout": "IPY_MODEL_160c9caf67bc4be580f5674f4fe6ae75"
          }
        },
        "66a3381a8f504075bc5f20ffd176cab0": {
          "model_module": "@jupyter-widgets/controls",
          "model_module_version": "1.5.0",
          "model_name": "HTMLModel",
          "state": {
            "_dom_classes": [],
            "_model_module": "@jupyter-widgets/controls",
            "_model_module_version": "1.5.0",
            "_model_name": "HTMLModel",
            "_view_count": null,
            "_view_module": "@jupyter-widgets/controls",
            "_view_module_version": "1.5.0",
            "_view_name": "HTMLView",
            "description": "",
            "description_tooltip": null,
            "layout": "IPY_MODEL_faa11c26614745fd9b21f4bfe1fd7bf6",
            "placeholder": "​",
            "style": "IPY_MODEL_bbd5c9495afc46e1adb19cf4e4f50ade",
            "value": "Loading checkpoint shards: 100%"
          }
        },
        "70c7f53bbf444921a51f4c011f676a6f": {
          "model_module": "@jupyter-widgets/controls",
          "model_module_version": "1.5.0",
          "model_name": "ProgressStyleModel",
          "state": {
            "_model_module": "@jupyter-widgets/controls",
            "_model_module_version": "1.5.0",
            "_model_name": "ProgressStyleModel",
            "_view_count": null,
            "_view_module": "@jupyter-widgets/base",
            "_view_module_version": "1.2.0",
            "_view_name": "StyleView",
            "bar_color": null,
            "description_width": ""
          }
        },
        "7ea49dd839cc44b8af186afcdc50c02a": {
          "model_module": "@jupyter-widgets/base",
          "model_module_version": "1.2.0",
          "model_name": "LayoutModel",
          "state": {
            "_model_module": "@jupyter-widgets/base",
            "_model_module_version": "1.2.0",
            "_model_name": "LayoutModel",
            "_view_count": null,
            "_view_module": "@jupyter-widgets/base",
            "_view_module_version": "1.2.0",
            "_view_name": "LayoutView",
            "align_content": null,
            "align_items": null,
            "align_self": null,
            "border": null,
            "bottom": null,
            "display": null,
            "flex": null,
            "flex_flow": null,
            "grid_area": null,
            "grid_auto_columns": null,
            "grid_auto_flow": null,
            "grid_auto_rows": null,
            "grid_column": null,
            "grid_gap": null,
            "grid_row": null,
            "grid_template_areas": null,
            "grid_template_columns": null,
            "grid_template_rows": null,
            "height": null,
            "justify_content": null,
            "justify_items": null,
            "left": null,
            "margin": null,
            "max_height": null,
            "max_width": null,
            "min_height": null,
            "min_width": null,
            "object_fit": null,
            "object_position": null,
            "order": null,
            "overflow": null,
            "overflow_x": null,
            "overflow_y": null,
            "padding": null,
            "right": null,
            "top": null,
            "visibility": null,
            "width": null
          }
        },
        "86820ae6aa84473c81462c971fd4e163": {
          "model_module": "@jupyter-widgets/controls",
          "model_module_version": "1.5.0",
          "model_name": "HTMLModel",
          "state": {
            "_dom_classes": [],
            "_model_module": "@jupyter-widgets/controls",
            "_model_module_version": "1.5.0",
            "_model_name": "HTMLModel",
            "_view_count": null,
            "_view_module": "@jupyter-widgets/controls",
            "_view_module_version": "1.5.0",
            "_view_name": "HTMLView",
            "description": "",
            "description_tooltip": null,
            "layout": "IPY_MODEL_7ea49dd839cc44b8af186afcdc50c02a",
            "placeholder": "​",
            "style": "IPY_MODEL_fe837cea61d9485994feb88a19723d1a",
            "value": " 3/3 [00:58&lt;00:00, 18.99s/it]"
          }
        },
        "bbd5c9495afc46e1adb19cf4e4f50ade": {
          "model_module": "@jupyter-widgets/controls",
          "model_module_version": "1.5.0",
          "model_name": "DescriptionStyleModel",
          "state": {
            "_model_module": "@jupyter-widgets/controls",
            "_model_module_version": "1.5.0",
            "_model_name": "DescriptionStyleModel",
            "_view_count": null,
            "_view_module": "@jupyter-widgets/base",
            "_view_module_version": "1.2.0",
            "_view_name": "StyleView",
            "description_width": ""
          }
        },
        "faa11c26614745fd9b21f4bfe1fd7bf6": {
          "model_module": "@jupyter-widgets/base",
          "model_module_version": "1.2.0",
          "model_name": "LayoutModel",
          "state": {
            "_model_module": "@jupyter-widgets/base",
            "_model_module_version": "1.2.0",
            "_model_name": "LayoutModel",
            "_view_count": null,
            "_view_module": "@jupyter-widgets/base",
            "_view_module_version": "1.2.0",
            "_view_name": "LayoutView",
            "align_content": null,
            "align_items": null,
            "align_self": null,
            "border": null,
            "bottom": null,
            "display": null,
            "flex": null,
            "flex_flow": null,
            "grid_area": null,
            "grid_auto_columns": null,
            "grid_auto_flow": null,
            "grid_auto_rows": null,
            "grid_column": null,
            "grid_gap": null,
            "grid_row": null,
            "grid_template_areas": null,
            "grid_template_columns": null,
            "grid_template_rows": null,
            "height": null,
            "justify_content": null,
            "justify_items": null,
            "left": null,
            "margin": null,
            "max_height": null,
            "max_width": null,
            "min_height": null,
            "min_width": null,
            "object_fit": null,
            "object_position": null,
            "order": null,
            "overflow": null,
            "overflow_x": null,
            "overflow_y": null,
            "padding": null,
            "right": null,
            "top": null,
            "visibility": null,
            "width": null
          }
        },
        "fe837cea61d9485994feb88a19723d1a": {
          "model_module": "@jupyter-widgets/controls",
          "model_module_version": "1.5.0",
          "model_name": "DescriptionStyleModel",
          "state": {
            "_model_module": "@jupyter-widgets/controls",
            "_model_module_version": "1.5.0",
            "_model_name": "DescriptionStyleModel",
            "_view_count": null,
            "_view_module": "@jupyter-widgets/base",
            "_view_module_version": "1.2.0",
            "_view_name": "StyleView",
            "description_width": ""
          }
        }
      }
    }
  },
  "nbformat": 4,
  "nbformat_minor": 0
}
